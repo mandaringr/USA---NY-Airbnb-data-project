{
 "cells": [
  {
   "cell_type": "code",
   "execution_count": 1,
   "id": "35007a93-23b4-4222-ae6c-58f73d21054f",
   "metadata": {},
   "outputs": [
    {
     "name": "stdout",
     "output_type": "stream",
     "text": [
      "folium: 0.15.1\n",
      "requests: 2.31.0\n",
      "pandas: 2.1.3\n",
      "numpy: 1.26.2\n",
      "seaborn: 0.13.0\n",
      "matplotlib: 3.8.2\n"
     ]
    }
   ],
   "source": [
    "import pandas as pd\n",
    "import numpy as np\n",
    "import seaborn as sns\n",
    "import requests\n",
    "import time\n",
    "import folium\n",
    "import folium.plugins\n",
    "import matplotlib as mpl\n",
    "import matplotlib.pyplot as plt\n",
    "\n",
    "plt.rcParams['font.family'] = 'Malgun Gothic'\n",
    "plt.rcParams['axes.unicode_minus'] = False\n",
    "\n",
    "pd.options.display.float_format = lambda x: f'{x:.3f}'\n",
    "\n",
    "print(f'folium: {folium.__version__}')\n",
    "print(f'requests: {requests.__version__}')\n",
    "print(f'pandas: {pd.__version__}')\n",
    "print(f'numpy: {np.__version__}')\n",
    "print(f'seaborn: {sns.__version__}')\n",
    "print(f'matplotlib: {mpl.__version__}')\n",
    "\n",
    "%matplotlib inline"
   ]
  },
  {
   "cell_type": "code",
   "execution_count": 2,
   "id": "25cd4100-0cce-4b06-9386-cb8173a22d9e",
   "metadata": {},
   "outputs": [
    {
     "name": "stdout",
     "output_type": "stream",
     "text": [
      "<class 'pandas.core.frame.DataFrame'>\n",
      "RangeIndex: 42931 entries, 0 to 42930\n",
      "Data columns (total 18 columns):\n",
      " #   Column                          Non-Null Count  Dtype  \n",
      "---  ------                          --------------  -----  \n",
      " 0   id                              42931 non-null  int64  \n",
      " 1   name                            42919 non-null  object \n",
      " 2   host_id                         42931 non-null  int64  \n",
      " 3   host_name                       42926 non-null  object \n",
      " 4   neighbourhood_group             42931 non-null  object \n",
      " 5   neighbourhood                   42931 non-null  object \n",
      " 6   latitude                        42931 non-null  float64\n",
      " 7   longitude                       42931 non-null  float64\n",
      " 8   room_type                       42931 non-null  object \n",
      " 9   price                           42931 non-null  int64  \n",
      " 10  minimum_nights                  42931 non-null  int64  \n",
      " 11  number_of_reviews               42931 non-null  int64  \n",
      " 12  last_review                     32627 non-null  object \n",
      " 13  reviews_per_month               32627 non-null  float64\n",
      " 14  calculated_host_listings_count  42931 non-null  int64  \n",
      " 15  availability_365                42931 non-null  int64  \n",
      " 16  number_of_reviews_ltm           42931 non-null  int64  \n",
      " 17  license                         1 non-null      object \n",
      "dtypes: float64(3), int64(8), object(7)\n",
      "memory usage: 5.9+ MB\n"
     ]
    }
   ],
   "source": [
    "airbnb = pd.read_csv(\"NYC-Airbnb-2023.csv\", low_memory=False)\n",
    "airbnb.info()"
   ]
  },
  {
   "cell_type": "markdown",
   "id": "20931b9d-da05-4af1-920c-c343fa96dc4b",
   "metadata": {},
   "source": [
    "# 에어비앤비 컬럼 정리"
   ]
  },
  {
   "cell_type": "markdown",
   "id": "09efc6e2-b294-4334-87ae-d7b75e1ac99d",
   "metadata": {},
   "source": [
    "|#|출력명|자료형|유형|결측|출력 설명|범위|비고|\n",
    "|:---:|:---:|:---:|:---:|:---:|:---:|:---:|:---:|\n",
    "|1|host_id|정수형(int64)|명목형|F|airbnb 호스트 식별자 ID||고유값-삭제|\n",
    "|2|host_name|문자형(object)|명목형|T|호스트 첫번째 이름(개인이름)|||\n",
    "|3|borough|문자형(object)|명목형|F|뉴욕시의 자치구|\"Manhattan\", \"Brooklyn\", \"Queens\", \"Bronx\", \"Staten Island\"|neighbourhood_group=>borough 변수명 변경|\n",
    "|4|neighbourhood|문자형(object)|명목형|F|뉴욕시의 특정 동네, 지역|||\n",
    "|5|latitude|실수형(float64)|연속형|F|위도||숙소 위치|\n",
    "|6|longitude|실수형(float64)|연속형|F|경도||숙소 위치|\n",
    "|7|room_type|문자형(object)|명목형|F|숙소 유형|\"Entire home/apt\", \"Private room\", \"Hotel room\", \"Shared room\"||\n",
    "|8|price|정수형(int64)|연속형|F|숙소 가격||호스트가 지정한 숙소의 가격|\n",
    "|9|minimum_nights|정수형(int64)|연속형|F|최소 숙박일 수|||\n",
    "|10|number_of_reviews|정수형(int64)|연속형|F|숙소 리뷰 수|||\n",
    "|11|last_review|문자형(object)|명목형|T|마지막 리뷰|||\n",
    "|12|reviews_per_month|실수형(float64)|연속형|T|숙소 월별 평균 리뷰 수|||\n",
    "|13|calculated_host_listings_count|정수형(int64)|연속형|F|호스트의 숙소 소유 개수|||\n",
    "|14|availability_365|정수형(int64)|연속형|F|연간 이용 가능일|||\n",
    "|15|number_of_reviews_ltm|정수형(int64)|연속형|F|최근 1년간 받은 리뷰 수|||\n",
    "|*|id|정수형(int64)|명목형|F|airbnb 숙소 식별자 ID||고유값-삭제|\n",
    "|*|name|문자형(object)|명목형|T|숙소 목록 이름||고유값-삭제|\n",
    "|*|license|문자형(object)|명목형|T|라이센스||전체 데이터에 값이 1개-삭제|"
   ]
  },
  {
   "cell_type": "code",
   "execution_count": null,
   "id": "ad4c73db-e90f-468e-9f2f-45f0da4960aa",
   "metadata": {},
   "outputs": [],
   "source": []
  },
  {
   "cell_type": "markdown",
   "id": "a6fe848d-8877-4030-be2e-19166a30211b",
   "metadata": {},
   "source": [
    "# 전처리"
   ]
  },
  {
   "cell_type": "markdown",
   "id": "d9ce15cb-e9f2-4191-a7d7-c1a99f1c2a7f",
   "metadata": {
    "jp-MarkdownHeadingCollapsed": true
   },
   "source": [
    "## 변수명 변경"
   ]
  },
  {
   "cell_type": "code",
   "execution_count": 3,
   "id": "135fab75-9e5f-4427-8032-5dcc05e396bf",
   "metadata": {},
   "outputs": [],
   "source": [
    "airbnb['borough'] = airbnb['neighbourhood_group']"
   ]
  },
  {
   "cell_type": "markdown",
   "id": "801a4319-b148-4394-ad5d-3242b56b9800",
   "metadata": {},
   "source": [
    "## 변수삭제"
   ]
  },
  {
   "cell_type": "markdown",
   "id": "41a63a7b-3938-4df5-be96-e6f176c2a167",
   "metadata": {
    "jp-MarkdownHeadingCollapsed": true
   },
   "source": [
    "### 결측 대부분인 변수"
   ]
  },
  {
   "cell_type": "code",
   "execution_count": 4,
   "id": "b5b6736c-d23f-4337-8857-4b94d6b24272",
   "metadata": {},
   "outputs": [],
   "source": [
    "airbnb.drop(columns=['license'], axis=1, inplace=True)"
   ]
  },
  {
   "cell_type": "markdown",
   "id": "2479d36a-4591-4d71-ac5a-a0040f96622d",
   "metadata": {},
   "source": [
    "### id등 고유식별자"
   ]
  },
  {
   "cell_type": "code",
   "execution_count": 5,
   "id": "9386dd3a-63d4-4110-b859-2beb7c46b595",
   "metadata": {},
   "outputs": [],
   "source": [
    "airbnb.drop(columns=['id','name'], axis=1, inplace=True)"
   ]
  },
  {
   "cell_type": "markdown",
   "id": "65bb51fb-3af4-4414-bc3f-0f2f5e9e5f53",
   "metadata": {
    "jp-MarkdownHeadingCollapsed": true
   },
   "source": [
    "### 이름 변경된 변수 제거"
   ]
  },
  {
   "cell_type": "code",
   "execution_count": 6,
   "id": "ad081aed-28a2-4d93-b52a-63bf829aef04",
   "metadata": {},
   "outputs": [],
   "source": [
    "airbnb.drop(columns=['neighbourhood_group'],axis=1, inplace=True)"
   ]
  },
  {
   "cell_type": "code",
   "execution_count": 7,
   "id": "1b420ec3-fa00-479d-8f16-96d3875b2bc8",
   "metadata": {},
   "outputs": [
    {
     "name": "stdout",
     "output_type": "stream",
     "text": [
      "<class 'pandas.core.frame.DataFrame'>\n",
      "RangeIndex: 42931 entries, 0 to 42930\n",
      "Data columns (total 15 columns):\n",
      " #   Column                          Non-Null Count  Dtype  \n",
      "---  ------                          --------------  -----  \n",
      " 0   host_id                         42931 non-null  int64  \n",
      " 1   host_name                       42926 non-null  object \n",
      " 2   neighbourhood                   42931 non-null  object \n",
      " 3   latitude                        42931 non-null  float64\n",
      " 4   longitude                       42931 non-null  float64\n",
      " 5   room_type                       42931 non-null  object \n",
      " 6   price                           42931 non-null  int64  \n",
      " 7   minimum_nights                  42931 non-null  int64  \n",
      " 8   number_of_reviews               42931 non-null  int64  \n",
      " 9   last_review                     32627 non-null  object \n",
      " 10  reviews_per_month               32627 non-null  float64\n",
      " 11  calculated_host_listings_count  42931 non-null  int64  \n",
      " 12  availability_365                42931 non-null  int64  \n",
      " 13  number_of_reviews_ltm           42931 non-null  int64  \n",
      " 14  borough                         42931 non-null  object \n",
      "dtypes: float64(3), int64(7), object(5)\n",
      "memory usage: 4.9+ MB\n"
     ]
    }
   ],
   "source": [
    "airbnb.info()"
   ]
  },
  {
   "cell_type": "markdown",
   "id": "f9f4cc38-e5fe-4aa0-97b7-5e5397707238",
   "metadata": {
    "jp-MarkdownHeadingCollapsed": true
   },
   "source": [
    "## 위도, 경도 데이터 형식 변경"
   ]
  },
  {
   "cell_type": "code",
   "execution_count": 8,
   "id": "510c144e-e156-4539-8e70-b59892f21340",
   "metadata": {},
   "outputs": [],
   "source": [
    "from decimal import Decimal\n",
    "\n",
    "airbnb['latitude'] = airbnb['latitude'].apply(lambda x: Decimal(str(x)))\n",
    "airbnb['longitude'] = airbnb['longitude'].apply(lambda x: Decimal(str(x)))"
   ]
  },
  {
   "cell_type": "code",
   "execution_count": 9,
   "id": "9b782b50-188d-4908-9efe-93de918903b8",
   "metadata": {},
   "outputs": [
    {
     "data": {
      "text/html": [
       "<div>\n",
       "<style scoped>\n",
       "    .dataframe tbody tr th:only-of-type {\n",
       "        vertical-align: middle;\n",
       "    }\n",
       "\n",
       "    .dataframe tbody tr th {\n",
       "        vertical-align: top;\n",
       "    }\n",
       "\n",
       "    .dataframe thead th {\n",
       "        text-align: right;\n",
       "    }\n",
       "</style>\n",
       "<table border=\"1\" class=\"dataframe\">\n",
       "  <thead>\n",
       "    <tr style=\"text-align: right;\">\n",
       "      <th></th>\n",
       "      <th>host_id</th>\n",
       "      <th>host_name</th>\n",
       "      <th>neighbourhood</th>\n",
       "      <th>latitude</th>\n",
       "      <th>longitude</th>\n",
       "      <th>room_type</th>\n",
       "      <th>price</th>\n",
       "      <th>minimum_nights</th>\n",
       "      <th>number_of_reviews</th>\n",
       "      <th>last_review</th>\n",
       "      <th>reviews_per_month</th>\n",
       "      <th>calculated_host_listings_count</th>\n",
       "      <th>availability_365</th>\n",
       "      <th>number_of_reviews_ltm</th>\n",
       "      <th>borough</th>\n",
       "    </tr>\n",
       "  </thead>\n",
       "  <tbody>\n",
       "    <tr>\n",
       "      <th>0</th>\n",
       "      <td>2845</td>\n",
       "      <td>Jennifer</td>\n",
       "      <td>Midtown</td>\n",
       "      <td>40.75356</td>\n",
       "      <td>-73.98559</td>\n",
       "      <td>Entire home/apt</td>\n",
       "      <td>150</td>\n",
       "      <td>30</td>\n",
       "      <td>49</td>\n",
       "      <td>2022-06-21</td>\n",
       "      <td>0.300</td>\n",
       "      <td>3</td>\n",
       "      <td>314</td>\n",
       "      <td>1</td>\n",
       "      <td>Manhattan</td>\n",
       "    </tr>\n",
       "    <tr>\n",
       "      <th>1</th>\n",
       "      <td>7356</td>\n",
       "      <td>Garon</td>\n",
       "      <td>Bedford-Stuyvesant</td>\n",
       "      <td>40.68535</td>\n",
       "      <td>-73.95512</td>\n",
       "      <td>Private room</td>\n",
       "      <td>60</td>\n",
       "      <td>30</td>\n",
       "      <td>50</td>\n",
       "      <td>2019-12-02</td>\n",
       "      <td>0.300</td>\n",
       "      <td>2</td>\n",
       "      <td>365</td>\n",
       "      <td>0</td>\n",
       "      <td>Brooklyn</td>\n",
       "    </tr>\n",
       "    <tr>\n",
       "      <th>2</th>\n",
       "      <td>7490</td>\n",
       "      <td>MaryEllen</td>\n",
       "      <td>Upper West Side</td>\n",
       "      <td>40.8038</td>\n",
       "      <td>-73.96751</td>\n",
       "      <td>Private room</td>\n",
       "      <td>75</td>\n",
       "      <td>2</td>\n",
       "      <td>118</td>\n",
       "      <td>2017-07-21</td>\n",
       "      <td>0.720</td>\n",
       "      <td>1</td>\n",
       "      <td>0</td>\n",
       "      <td>0</td>\n",
       "      <td>Manhattan</td>\n",
       "    </tr>\n",
       "    <tr>\n",
       "      <th>3</th>\n",
       "      <td>8967</td>\n",
       "      <td>Shunichi</td>\n",
       "      <td>Midtown</td>\n",
       "      <td>40.76457</td>\n",
       "      <td>-73.98317</td>\n",
       "      <td>Private room</td>\n",
       "      <td>68</td>\n",
       "      <td>2</td>\n",
       "      <td>575</td>\n",
       "      <td>2023-02-19</td>\n",
       "      <td>3.410</td>\n",
       "      <td>1</td>\n",
       "      <td>106</td>\n",
       "      <td>52</td>\n",
       "      <td>Manhattan</td>\n",
       "    </tr>\n",
       "    <tr>\n",
       "      <th>4</th>\n",
       "      <td>7378</td>\n",
       "      <td>Rebecca</td>\n",
       "      <td>Sunset Park</td>\n",
       "      <td>40.66265</td>\n",
       "      <td>-73.99454</td>\n",
       "      <td>Entire home/apt</td>\n",
       "      <td>275</td>\n",
       "      <td>60</td>\n",
       "      <td>3</td>\n",
       "      <td>2022-08-10</td>\n",
       "      <td>0.030</td>\n",
       "      <td>1</td>\n",
       "      <td>181</td>\n",
       "      <td>1</td>\n",
       "      <td>Brooklyn</td>\n",
       "    </tr>\n",
       "    <tr>\n",
       "      <th>5</th>\n",
       "      <td>127608</td>\n",
       "      <td>Chris</td>\n",
       "      <td>Clinton Hill</td>\n",
       "      <td>40.68292</td>\n",
       "      <td>-73.96381</td>\n",
       "      <td>Private room</td>\n",
       "      <td>93</td>\n",
       "      <td>3</td>\n",
       "      <td>350</td>\n",
       "      <td>2023-02-27</td>\n",
       "      <td>2.250</td>\n",
       "      <td>1</td>\n",
       "      <td>145</td>\n",
       "      <td>48</td>\n",
       "      <td>Brooklyn</td>\n",
       "    </tr>\n",
       "    <tr>\n",
       "      <th>6</th>\n",
       "      <td>8526</td>\n",
       "      <td>Susan</td>\n",
       "      <td>Upper East Side</td>\n",
       "      <td>40.76076</td>\n",
       "      <td>-73.96156</td>\n",
       "      <td>Entire home/apt</td>\n",
       "      <td>295</td>\n",
       "      <td>4</td>\n",
       "      <td>45</td>\n",
       "      <td>2022-10-03</td>\n",
       "      <td>0.270</td>\n",
       "      <td>1</td>\n",
       "      <td>1</td>\n",
       "      <td>4</td>\n",
       "      <td>Manhattan</td>\n",
       "    </tr>\n",
       "    <tr>\n",
       "      <th>7</th>\n",
       "      <td>9744</td>\n",
       "      <td>Laurie</td>\n",
       "      <td>South Slope</td>\n",
       "      <td>40.66801</td>\n",
       "      <td>-73.98784</td>\n",
       "      <td>Private room</td>\n",
       "      <td>124</td>\n",
       "      <td>3</td>\n",
       "      <td>223</td>\n",
       "      <td>2023-02-13</td>\n",
       "      <td>1.320</td>\n",
       "      <td>3</td>\n",
       "      <td>164</td>\n",
       "      <td>17</td>\n",
       "      <td>Brooklyn</td>\n",
       "    </tr>\n",
       "    <tr>\n",
       "      <th>8</th>\n",
       "      <td>117287</td>\n",
       "      <td>Lara Nicole</td>\n",
       "      <td>Hell's Kitchen</td>\n",
       "      <td>40.7672</td>\n",
       "      <td>-73.98464</td>\n",
       "      <td>Private room</td>\n",
       "      <td>200</td>\n",
       "      <td>1</td>\n",
       "      <td>68</td>\n",
       "      <td>2021-10-01</td>\n",
       "      <td>0.440</td>\n",
       "      <td>4</td>\n",
       "      <td>310</td>\n",
       "      <td>0</td>\n",
       "      <td>Manhattan</td>\n",
       "    </tr>\n",
       "    <tr>\n",
       "      <th>9</th>\n",
       "      <td>15991</td>\n",
       "      <td>Allen &amp; Irina</td>\n",
       "      <td>Williamsburg</td>\n",
       "      <td>40.70935</td>\n",
       "      <td>-73.95342</td>\n",
       "      <td>Entire home/apt</td>\n",
       "      <td>81</td>\n",
       "      <td>30</td>\n",
       "      <td>189</td>\n",
       "      <td>2023-02-04</td>\n",
       "      <td>1.130</td>\n",
       "      <td>1</td>\n",
       "      <td>207</td>\n",
       "      <td>5</td>\n",
       "      <td>Brooklyn</td>\n",
       "    </tr>\n",
       "    <tr>\n",
       "      <th>10</th>\n",
       "      <td>16104</td>\n",
       "      <td>Kae</td>\n",
       "      <td>East Harlem</td>\n",
       "      <td>40.80107</td>\n",
       "      <td>-73.94255</td>\n",
       "      <td>Private room</td>\n",
       "      <td>65</td>\n",
       "      <td>30</td>\n",
       "      <td>1</td>\n",
       "      <td>2022-06-05</td>\n",
       "      <td>0.110</td>\n",
       "      <td>2</td>\n",
       "      <td>204</td>\n",
       "      <td>1</td>\n",
       "      <td>Manhattan</td>\n",
       "    </tr>\n",
       "    <tr>\n",
       "      <th>11</th>\n",
       "      <td>101597</td>\n",
       "      <td>Per</td>\n",
       "      <td>East Harlem</td>\n",
       "      <td>40.79544</td>\n",
       "      <td>-73.94836</td>\n",
       "      <td>Entire home/apt</td>\n",
       "      <td>250</td>\n",
       "      <td>28</td>\n",
       "      <td>47</td>\n",
       "      <td>2022-12-14</td>\n",
       "      <td>0.370</td>\n",
       "      <td>1</td>\n",
       "      <td>81</td>\n",
       "      <td>9</td>\n",
       "      <td>Manhattan</td>\n",
       "    </tr>\n",
       "    <tr>\n",
       "      <th>12</th>\n",
       "      <td>135619</td>\n",
       "      <td>Tom</td>\n",
       "      <td>West Village</td>\n",
       "      <td>40.73405</td>\n",
       "      <td>-74.00281</td>\n",
       "      <td>Entire home/apt</td>\n",
       "      <td>120</td>\n",
       "      <td>30</td>\n",
       "      <td>32</td>\n",
       "      <td>2021-03-27</td>\n",
       "      <td>0.220</td>\n",
       "      <td>1</td>\n",
       "      <td>0</td>\n",
       "      <td>0</td>\n",
       "      <td>Manhattan</td>\n",
       "    </tr>\n",
       "    <tr>\n",
       "      <th>13</th>\n",
       "      <td>330347</td>\n",
       "      <td>Adrienne</td>\n",
       "      <td>Williamsburg</td>\n",
       "      <td>40.71516</td>\n",
       "      <td>-73.96448</td>\n",
       "      <td>Entire home/apt</td>\n",
       "      <td>160</td>\n",
       "      <td>30</td>\n",
       "      <td>74</td>\n",
       "      <td>2022-06-26</td>\n",
       "      <td>0.510</td>\n",
       "      <td>1</td>\n",
       "      <td>77</td>\n",
       "      <td>1</td>\n",
       "      <td>Brooklyn</td>\n",
       "    </tr>\n",
       "    <tr>\n",
       "      <th>14</th>\n",
       "      <td>137292</td>\n",
       "      <td>Sunder</td>\n",
       "      <td>East Flatbush</td>\n",
       "      <td>40.6327</td>\n",
       "      <td>-73.93184</td>\n",
       "      <td>Private room</td>\n",
       "      <td>80</td>\n",
       "      <td>30</td>\n",
       "      <td>4</td>\n",
       "      <td>2019-10-14</td>\n",
       "      <td>0.030</td>\n",
       "      <td>1</td>\n",
       "      <td>0</td>\n",
       "      <td>0</td>\n",
       "      <td>Brooklyn</td>\n",
       "    </tr>\n",
       "    <tr>\n",
       "      <th>15</th>\n",
       "      <td>67730</td>\n",
       "      <td>Boris</td>\n",
       "      <td>Astoria</td>\n",
       "      <td>40.76336</td>\n",
       "      <td>-73.92099</td>\n",
       "      <td>Private room</td>\n",
       "      <td>55</td>\n",
       "      <td>30</td>\n",
       "      <td>0</td>\n",
       "      <td>NaN</td>\n",
       "      <td>NaN</td>\n",
       "      <td>1</td>\n",
       "      <td>0</td>\n",
       "      <td>0</td>\n",
       "      <td>Queens</td>\n",
       "    </tr>\n",
       "    <tr>\n",
       "      <th>16</th>\n",
       "      <td>16800</td>\n",
       "      <td>Cyn</td>\n",
       "      <td>East Harlem</td>\n",
       "      <td>40.78778</td>\n",
       "      <td>-73.94759</td>\n",
       "      <td>Private room</td>\n",
       "      <td>62</td>\n",
       "      <td>30</td>\n",
       "      <td>243</td>\n",
       "      <td>2023-01-01</td>\n",
       "      <td>1.490</td>\n",
       "      <td>1</td>\n",
       "      <td>249</td>\n",
       "      <td>7</td>\n",
       "      <td>Manhattan</td>\n",
       "    </tr>\n",
       "    <tr>\n",
       "      <th>17</th>\n",
       "      <td>137814</td>\n",
       "      <td>Waldemar</td>\n",
       "      <td>Clinton Hill</td>\n",
       "      <td>40.68818</td>\n",
       "      <td>-73.96383</td>\n",
       "      <td>Private room</td>\n",
       "      <td>100</td>\n",
       "      <td>2</td>\n",
       "      <td>532</td>\n",
       "      <td>2023-01-31</td>\n",
       "      <td>3.450</td>\n",
       "      <td>2</td>\n",
       "      <td>289</td>\n",
       "      <td>31</td>\n",
       "      <td>Brooklyn</td>\n",
       "    </tr>\n",
       "    <tr>\n",
       "      <th>18</th>\n",
       "      <td>116599</td>\n",
       "      <td>Sahr</td>\n",
       "      <td>Clinton Hill</td>\n",
       "      <td>40.68513</td>\n",
       "      <td>-73.96648</td>\n",
       "      <td>Private room</td>\n",
       "      <td>139</td>\n",
       "      <td>30</td>\n",
       "      <td>93</td>\n",
       "      <td>2022-11-02</td>\n",
       "      <td>0.610</td>\n",
       "      <td>1</td>\n",
       "      <td>364</td>\n",
       "      <td>1</td>\n",
       "      <td>Brooklyn</td>\n",
       "    </tr>\n",
       "    <tr>\n",
       "      <th>19</th>\n",
       "      <td>17297</td>\n",
       "      <td>Joelle</td>\n",
       "      <td>Williamsburg</td>\n",
       "      <td>40.71248</td>\n",
       "      <td>-73.95881</td>\n",
       "      <td>Private room</td>\n",
       "      <td>95</td>\n",
       "      <td>7</td>\n",
       "      <td>13</td>\n",
       "      <td>2022-09-12</td>\n",
       "      <td>0.090</td>\n",
       "      <td>2</td>\n",
       "      <td>0</td>\n",
       "      <td>4</td>\n",
       "      <td>Brooklyn</td>\n",
       "    </tr>\n",
       "  </tbody>\n",
       "</table>\n",
       "</div>"
      ],
      "text/plain": [
       "    host_id      host_name       neighbourhood  latitude  longitude  \\\n",
       "0      2845       Jennifer             Midtown  40.75356  -73.98559   \n",
       "1      7356          Garon  Bedford-Stuyvesant  40.68535  -73.95512   \n",
       "2      7490      MaryEllen     Upper West Side   40.8038  -73.96751   \n",
       "3      8967       Shunichi             Midtown  40.76457  -73.98317   \n",
       "4      7378        Rebecca         Sunset Park  40.66265  -73.99454   \n",
       "5    127608          Chris        Clinton Hill  40.68292  -73.96381   \n",
       "6      8526          Susan     Upper East Side  40.76076  -73.96156   \n",
       "7      9744         Laurie         South Slope  40.66801  -73.98784   \n",
       "8    117287    Lara Nicole      Hell's Kitchen   40.7672  -73.98464   \n",
       "9     15991  Allen & Irina        Williamsburg  40.70935  -73.95342   \n",
       "10    16104            Kae         East Harlem  40.80107  -73.94255   \n",
       "11   101597            Per         East Harlem  40.79544  -73.94836   \n",
       "12   135619            Tom        West Village  40.73405  -74.00281   \n",
       "13   330347       Adrienne        Williamsburg  40.71516  -73.96448   \n",
       "14   137292         Sunder       East Flatbush   40.6327  -73.93184   \n",
       "15    67730          Boris             Astoria  40.76336  -73.92099   \n",
       "16    16800            Cyn         East Harlem  40.78778  -73.94759   \n",
       "17   137814       Waldemar        Clinton Hill  40.68818  -73.96383   \n",
       "18   116599           Sahr        Clinton Hill  40.68513  -73.96648   \n",
       "19    17297         Joelle        Williamsburg  40.71248  -73.95881   \n",
       "\n",
       "          room_type  price  minimum_nights  number_of_reviews last_review  \\\n",
       "0   Entire home/apt    150              30                 49  2022-06-21   \n",
       "1      Private room     60              30                 50  2019-12-02   \n",
       "2      Private room     75               2                118  2017-07-21   \n",
       "3      Private room     68               2                575  2023-02-19   \n",
       "4   Entire home/apt    275              60                  3  2022-08-10   \n",
       "5      Private room     93               3                350  2023-02-27   \n",
       "6   Entire home/apt    295               4                 45  2022-10-03   \n",
       "7      Private room    124               3                223  2023-02-13   \n",
       "8      Private room    200               1                 68  2021-10-01   \n",
       "9   Entire home/apt     81              30                189  2023-02-04   \n",
       "10     Private room     65              30                  1  2022-06-05   \n",
       "11  Entire home/apt    250              28                 47  2022-12-14   \n",
       "12  Entire home/apt    120              30                 32  2021-03-27   \n",
       "13  Entire home/apt    160              30                 74  2022-06-26   \n",
       "14     Private room     80              30                  4  2019-10-14   \n",
       "15     Private room     55              30                  0         NaN   \n",
       "16     Private room     62              30                243  2023-01-01   \n",
       "17     Private room    100               2                532  2023-01-31   \n",
       "18     Private room    139              30                 93  2022-11-02   \n",
       "19     Private room     95               7                 13  2022-09-12   \n",
       "\n",
       "    reviews_per_month  calculated_host_listings_count  availability_365  \\\n",
       "0               0.300                               3               314   \n",
       "1               0.300                               2               365   \n",
       "2               0.720                               1                 0   \n",
       "3               3.410                               1               106   \n",
       "4               0.030                               1               181   \n",
       "5               2.250                               1               145   \n",
       "6               0.270                               1                 1   \n",
       "7               1.320                               3               164   \n",
       "8               0.440                               4               310   \n",
       "9               1.130                               1               207   \n",
       "10              0.110                               2               204   \n",
       "11              0.370                               1                81   \n",
       "12              0.220                               1                 0   \n",
       "13              0.510                               1                77   \n",
       "14              0.030                               1                 0   \n",
       "15                NaN                               1                 0   \n",
       "16              1.490                               1               249   \n",
       "17              3.450                               2               289   \n",
       "18              0.610                               1               364   \n",
       "19              0.090                               2                 0   \n",
       "\n",
       "    number_of_reviews_ltm    borough  \n",
       "0                       1  Manhattan  \n",
       "1                       0   Brooklyn  \n",
       "2                       0  Manhattan  \n",
       "3                      52  Manhattan  \n",
       "4                       1   Brooklyn  \n",
       "5                      48   Brooklyn  \n",
       "6                       4  Manhattan  \n",
       "7                      17   Brooklyn  \n",
       "8                       0  Manhattan  \n",
       "9                       5   Brooklyn  \n",
       "10                      1  Manhattan  \n",
       "11                      9  Manhattan  \n",
       "12                      0  Manhattan  \n",
       "13                      1   Brooklyn  \n",
       "14                      0   Brooklyn  \n",
       "15                      0     Queens  \n",
       "16                      7  Manhattan  \n",
       "17                     31   Brooklyn  \n",
       "18                      1   Brooklyn  \n",
       "19                      4   Brooklyn  "
      ]
     },
     "execution_count": 9,
     "metadata": {},
     "output_type": "execute_result"
    }
   ],
   "source": [
    "airbnb.head(20)"
   ]
  },
  {
   "cell_type": "markdown",
   "id": "48604fef-521f-4312-9741-4c29590cf58b",
   "metadata": {
    "jp-MarkdownHeadingCollapsed": true
   },
   "source": [
    "## 결측치 탐색"
   ]
  },
  {
   "cell_type": "code",
   "execution_count": 10,
   "id": "9b6efd2f-2410-4c4b-b3f9-efa4e290a4d1",
   "metadata": {},
   "outputs": [
    {
     "data": {
      "text/plain": [
       "host_id                               0\n",
       "host_name                             5\n",
       "neighbourhood                         0\n",
       "latitude                              0\n",
       "longitude                             0\n",
       "room_type                             0\n",
       "price                                 0\n",
       "minimum_nights                        0\n",
       "number_of_reviews                     0\n",
       "last_review                       10304\n",
       "reviews_per_month                 10304\n",
       "calculated_host_listings_count        0\n",
       "availability_365                      0\n",
       "number_of_reviews_ltm                 0\n",
       "borough                               0\n",
       "dtype: int64"
      ]
     },
     "execution_count": 10,
     "metadata": {},
     "output_type": "execute_result"
    }
   ],
   "source": [
    "airbnb.isna().sum()"
   ]
  },
  {
   "cell_type": "markdown",
   "id": "4c5d7014-d9db-4bff-a7cf-b05e37660107",
   "metadata": {
    "jp-MarkdownHeadingCollapsed": true
   },
   "source": [
    "### host_name 결측치 unknown으로 변경"
   ]
  },
  {
   "cell_type": "code",
   "execution_count": 11,
   "id": "e9b211eb-7b17-419d-9d20-6d86900bbffb",
   "metadata": {},
   "outputs": [],
   "source": [
    "airbnb.host_name.fillna('unknown',inplace=True)"
   ]
  },
  {
   "cell_type": "code",
   "execution_count": 12,
   "id": "ee27654c-1f3a-4671-aa66-b88186386a26",
   "metadata": {},
   "outputs": [
    {
     "data": {
      "text/html": [
       "<div>\n",
       "<style scoped>\n",
       "    .dataframe tbody tr th:only-of-type {\n",
       "        vertical-align: middle;\n",
       "    }\n",
       "\n",
       "    .dataframe tbody tr th {\n",
       "        vertical-align: top;\n",
       "    }\n",
       "\n",
       "    .dataframe thead th {\n",
       "        text-align: right;\n",
       "    }\n",
       "</style>\n",
       "<table border=\"1\" class=\"dataframe\">\n",
       "  <thead>\n",
       "    <tr style=\"text-align: right;\">\n",
       "      <th></th>\n",
       "      <th>host_id</th>\n",
       "      <th>host_name</th>\n",
       "      <th>neighbourhood</th>\n",
       "      <th>latitude</th>\n",
       "      <th>longitude</th>\n",
       "      <th>room_type</th>\n",
       "      <th>price</th>\n",
       "      <th>minimum_nights</th>\n",
       "      <th>number_of_reviews</th>\n",
       "      <th>last_review</th>\n",
       "      <th>reviews_per_month</th>\n",
       "      <th>calculated_host_listings_count</th>\n",
       "      <th>availability_365</th>\n",
       "      <th>number_of_reviews_ltm</th>\n",
       "      <th>borough</th>\n",
       "    </tr>\n",
       "  </thead>\n",
       "  <tbody>\n",
       "    <tr>\n",
       "      <th>2860</th>\n",
       "      <td>23077718</td>\n",
       "      <td>unknown</td>\n",
       "      <td>Crown Heights</td>\n",
       "      <td>40.67605</td>\n",
       "      <td>-73.95997</td>\n",
       "      <td>Private room</td>\n",
       "      <td>50</td>\n",
       "      <td>30</td>\n",
       "      <td>0</td>\n",
       "      <td>NaN</td>\n",
       "      <td>NaN</td>\n",
       "      <td>1</td>\n",
       "      <td>0</td>\n",
       "      <td>0</td>\n",
       "      <td>Brooklyn</td>\n",
       "    </tr>\n",
       "    <tr>\n",
       "      <th>3128</th>\n",
       "      <td>24576978</td>\n",
       "      <td>unknown</td>\n",
       "      <td>Greenpoint</td>\n",
       "      <td>40.72119</td>\n",
       "      <td>-73.95279</td>\n",
       "      <td>Entire home/apt</td>\n",
       "      <td>195</td>\n",
       "      <td>30</td>\n",
       "      <td>1</td>\n",
       "      <td>2015-10-20</td>\n",
       "      <td>0.010</td>\n",
       "      <td>1</td>\n",
       "      <td>0</td>\n",
       "      <td>0</td>\n",
       "      <td>Brooklyn</td>\n",
       "    </tr>\n",
       "    <tr>\n",
       "      <th>4012</th>\n",
       "      <td>33134899</td>\n",
       "      <td>unknown</td>\n",
       "      <td>Bushwick</td>\n",
       "      <td>40.69977</td>\n",
       "      <td>-73.92912</td>\n",
       "      <td>Private room</td>\n",
       "      <td>37</td>\n",
       "      <td>30</td>\n",
       "      <td>1</td>\n",
       "      <td>2015-07-01</td>\n",
       "      <td>0.010</td>\n",
       "      <td>1</td>\n",
       "      <td>0</td>\n",
       "      <td>0</td>\n",
       "      <td>Brooklyn</td>\n",
       "    </tr>\n",
       "    <tr>\n",
       "      <th>4347</th>\n",
       "      <td>5162530</td>\n",
       "      <td>unknown</td>\n",
       "      <td>Williamsburg</td>\n",
       "      <td>40.71944</td>\n",
       "      <td>-73.95645</td>\n",
       "      <td>Entire home/apt</td>\n",
       "      <td>145</td>\n",
       "      <td>30</td>\n",
       "      <td>0</td>\n",
       "      <td>NaN</td>\n",
       "      <td>NaN</td>\n",
       "      <td>1</td>\n",
       "      <td>0</td>\n",
       "      <td>0</td>\n",
       "      <td>Brooklyn</td>\n",
       "    </tr>\n",
       "    <tr>\n",
       "      <th>4732</th>\n",
       "      <td>39608626</td>\n",
       "      <td>unknown</td>\n",
       "      <td>Harlem</td>\n",
       "      <td>40.82992</td>\n",
       "      <td>-73.94033</td>\n",
       "      <td>Private room</td>\n",
       "      <td>28</td>\n",
       "      <td>30</td>\n",
       "      <td>1</td>\n",
       "      <td>2015-08-01</td>\n",
       "      <td>0.010</td>\n",
       "      <td>1</td>\n",
       "      <td>0</td>\n",
       "      <td>0</td>\n",
       "      <td>Manhattan</td>\n",
       "    </tr>\n",
       "  </tbody>\n",
       "</table>\n",
       "</div>"
      ],
      "text/plain": [
       "       host_id host_name  neighbourhood  latitude  longitude        room_type  \\\n",
       "2860  23077718   unknown  Crown Heights  40.67605  -73.95997     Private room   \n",
       "3128  24576978   unknown     Greenpoint  40.72119  -73.95279  Entire home/apt   \n",
       "4012  33134899   unknown       Bushwick  40.69977  -73.92912     Private room   \n",
       "4347   5162530   unknown   Williamsburg  40.71944  -73.95645  Entire home/apt   \n",
       "4732  39608626   unknown         Harlem  40.82992  -73.94033     Private room   \n",
       "\n",
       "      price  minimum_nights  number_of_reviews last_review  reviews_per_month  \\\n",
       "2860     50              30                  0         NaN                NaN   \n",
       "3128    195              30                  1  2015-10-20              0.010   \n",
       "4012     37              30                  1  2015-07-01              0.010   \n",
       "4347    145              30                  0         NaN                NaN   \n",
       "4732     28              30                  1  2015-08-01              0.010   \n",
       "\n",
       "      calculated_host_listings_count  availability_365  number_of_reviews_ltm  \\\n",
       "2860                               1                 0                      0   \n",
       "3128                               1                 0                      0   \n",
       "4012                               1                 0                      0   \n",
       "4347                               1                 0                      0   \n",
       "4732                               1                 0                      0   \n",
       "\n",
       "        borough  \n",
       "2860   Brooklyn  \n",
       "3128   Brooklyn  \n",
       "4012   Brooklyn  \n",
       "4347   Brooklyn  \n",
       "4732  Manhattan  "
      ]
     },
     "execution_count": 12,
     "metadata": {},
     "output_type": "execute_result"
    }
   ],
   "source": [
    "airbnb[airbnb['host_name'] == 'unknown']"
   ]
  },
  {
   "cell_type": "markdown",
   "id": "03468c38-131a-48cc-be16-3abe991c9e57",
   "metadata": {
    "jp-MarkdownHeadingCollapsed": true
   },
   "source": [
    "### last_review, reviews_per_month 결측치 대체 방법"
   ]
  },
  {
   "cell_type": "code",
   "execution_count": 13,
   "id": "7b38612e-4936-43ca-bb92-d7e9853f6790",
   "metadata": {},
   "outputs": [
    {
     "data": {
      "image/png": "[encoded data removed]",
      "text/plain": [
       "<Figure size 2100x800 with 2 Axes>"
      ]
     },
     "metadata": {},
     "output_type": "display_data"
    }
   ],
   "source": [
    "reviews = airbnb[['last_review', 'reviews_per_month']]\n",
    "\n",
    "fig, ax = plt.subplots(figsize=(21, 8))\n",
    "sns.heatmap(reviews[['last_review', 'reviews_per_month']].notna(), ax=ax)\n",
    "plt.show()"
   ]
  },
  {
   "cell_type": "markdown",
   "id": "49e2c071-1dfa-4dbe-a9b3-515b5892d48c",
   "metadata": {},
   "source": [
    "두 변수의 결측치 패턴이 동일한 것으로 확인이 된다."
   ]
  },
  {
   "cell_type": "code",
   "execution_count": 14,
   "id": "644ffd89-984c-4700-9044-702362a399a3",
   "metadata": {
    "scrolled": true
   },
   "outputs": [
    {
     "data": {
      "text/plain": [
       "0     2022-06-21\n",
       "1     2019-12-02\n",
       "2     2017-07-21\n",
       "3     2023-02-19\n",
       "4     2022-08-10\n",
       "5     2023-02-27\n",
       "6     2022-10-03\n",
       "7     2023-02-13\n",
       "8     2021-10-01\n",
       "9     2023-02-04\n",
       "10    2022-06-05\n",
       "11    2022-12-14\n",
       "12    2021-03-27\n",
       "13    2022-06-26\n",
       "14    2019-10-14\n",
       "15           NaN\n",
       "16    2023-01-01\n",
       "17    2023-01-31\n",
       "18    2022-11-02\n",
       "19    2022-09-12\n",
       "Name: last_review, dtype: object"
      ]
     },
     "execution_count": 14,
     "metadata": {},
     "output_type": "execute_result"
    }
   ],
   "source": [
    "airbnb[\"last_review\"].head(20)"
   ]
  },
  {
   "cell_type": "markdown",
   "id": "0b9e24cc-a251-4a1b-a956-f07554bc99f3",
   "metadata": {},
   "source": [
    "날짜형 데이터를 가지고 있는 것을 확인 후, 다른 변수와의 연관성을 확인"
   ]
  },
  {
   "cell_type": "code",
   "execution_count": 15,
   "id": "2f54afbb-6945-4106-9c81-894267dfa3e9",
   "metadata": {},
   "outputs": [
    {
     "data": {
      "text/plain": [
       "number_of_reviews_ltm\n",
       "0    10304\n",
       "Name: count, dtype: int64"
      ]
     },
     "execution_count": 15,
     "metadata": {},
     "output_type": "execute_result"
    }
   ],
   "source": [
    "miss_review = airbnb[airbnb['last_review'].isnull()]\n",
    "miss_review['number_of_reviews_ltm'].value_counts()"
   ]
  },
  {
   "cell_type": "code",
   "execution_count": 16,
   "id": "05675820-0a48-45fe-aea5-0b944afd846c",
   "metadata": {},
   "outputs": [
    {
     "data": {
      "text/plain": [
       "availability_365\n",
       "0      3769\n",
       "365     861\n",
       "364     497\n",
       "90      144\n",
       "339     111\n",
       "       ... \n",
       "199       2\n",
       "238       1\n",
       "98        1\n",
       "198       1\n",
       "136       1\n",
       "Name: count, Length: 366, dtype: int64"
      ]
     },
     "execution_count": 16,
     "metadata": {},
     "output_type": "execute_result"
    }
   ],
   "source": [
    "miss_review = airbnb[airbnb['last_review'].isnull()]\n",
    "miss_review['availability_365'].value_counts()"
   ]
  },
  {
   "cell_type": "code",
   "execution_count": 17,
   "id": "1fffc130-4045-434b-bf47-09e8864f21dc",
   "metadata": {},
   "outputs": [
    {
     "data": {
      "text/plain": [
       "number_of_reviews\n",
       "0    10304\n",
       "Name: count, dtype: int64"
      ]
     },
     "execution_count": 17,
     "metadata": {},
     "output_type": "execute_result"
    }
   ],
   "source": [
    "miss_review = airbnb[airbnb['last_review'].isnull()]\n",
    "miss_review['number_of_reviews'].value_counts()"
   ]
  },
  {
   "cell_type": "markdown",
   "id": "6f90feed-fd38-4395-8732-916a71c4068d",
   "metadata": {},
   "source": [
    "리뷰 관련 변수의 값이 결측 변수 행에 대해서 모두 0임을 확인  \n",
    "따라서, reviews_per_month : 숙소 월별 평균 리뷰 수 변수는 수치형 변수로 모두 0으로 대체한다.\n",
    "        last_review : Not review의 값으로 대체한다."
   ]
  },
  {
   "cell_type": "markdown",
   "id": "dadeb250-7f6c-41c5-b827-8d22b6055567",
   "metadata": {},
   "source": [
    "### last_review,reviews_per_month 결측치 대체"
   ]
  },
  {
   "cell_type": "code",
   "execution_count": 18,
   "id": "e804657b-587f-4b86-a000-47ced8f5dae9",
   "metadata": {},
   "outputs": [],
   "source": [
    "airbnb.reviews_per_month.fillna(0, inplace=True)\n",
    "airbnb.last_review.fillna(\"Not review\", inplace=True)"
   ]
  },
  {
   "cell_type": "code",
   "execution_count": 19,
   "id": "44c5e8ec-b9cd-4627-90e1-352816626a64",
   "metadata": {},
   "outputs": [
    {
     "data": {
      "text/plain": [
       "host_id                           0\n",
       "host_name                         0\n",
       "neighbourhood                     0\n",
       "latitude                          0\n",
       "longitude                         0\n",
       "room_type                         0\n",
       "price                             0\n",
       "minimum_nights                    0\n",
       "number_of_reviews                 0\n",
       "last_review                       0\n",
       "reviews_per_month                 0\n",
       "calculated_host_listings_count    0\n",
       "availability_365                  0\n",
       "number_of_reviews_ltm             0\n",
       "borough                           0\n",
       "dtype: int64"
      ]
     },
     "execution_count": 19,
     "metadata": {},
     "output_type": "execute_result"
    }
   ],
   "source": [
    "airbnb.isna().sum()"
   ]
  },
  {
   "cell_type": "markdown",
   "id": "f6555c6b-3b41-47e3-b566-388095ae26a1",
   "metadata": {},
   "source": [
    "## 이상치 탐색"
   ]
  },
  {
   "cell_type": "code",
   "execution_count": 20,
   "id": "c3cc2a6b-2a4d-4a73-bf91-f7e330a911a0",
   "metadata": {},
   "outputs": [
    {
     "data": {
      "text/html": [
       "<div>\n",
       "<style scoped>\n",
       "    .dataframe tbody tr th:only-of-type {\n",
       "        vertical-align: middle;\n",
       "    }\n",
       "\n",
       "    .dataframe tbody tr th {\n",
       "        vertical-align: top;\n",
       "    }\n",
       "\n",
       "    .dataframe thead th {\n",
       "        text-align: right;\n",
       "    }\n",
       "</style>\n",
       "<table border=\"1\" class=\"dataframe\">\n",
       "  <thead>\n",
       "    <tr style=\"text-align: right;\">\n",
       "      <th></th>\n",
       "      <th>host_id</th>\n",
       "      <th>price</th>\n",
       "      <th>minimum_nights</th>\n",
       "      <th>number_of_reviews</th>\n",
       "      <th>reviews_per_month</th>\n",
       "      <th>calculated_host_listings_count</th>\n",
       "      <th>availability_365</th>\n",
       "      <th>number_of_reviews_ltm</th>\n",
       "    </tr>\n",
       "  </thead>\n",
       "  <tbody>\n",
       "    <tr>\n",
       "      <th>count</th>\n",
       "      <td>42931.000</td>\n",
       "      <td>42931.000</td>\n",
       "      <td>42931.000</td>\n",
       "      <td>42931.000</td>\n",
       "      <td>42931.000</td>\n",
       "      <td>42931.000</td>\n",
       "      <td>42931.000</td>\n",
       "      <td>42931.000</td>\n",
       "    </tr>\n",
       "    <tr>\n",
       "      <th>mean</th>\n",
       "      <td>151601209.022</td>\n",
       "      <td>200.307</td>\n",
       "      <td>18.111</td>\n",
       "      <td>25.856</td>\n",
       "      <td>0.888</td>\n",
       "      <td>24.055</td>\n",
       "      <td>140.262</td>\n",
       "      <td>7.737</td>\n",
       "    </tr>\n",
       "    <tr>\n",
       "      <th>std</th>\n",
       "      <td>162130107.568</td>\n",
       "      <td>895.083</td>\n",
       "      <td>27.463</td>\n",
       "      <td>56.616</td>\n",
       "      <td>1.638</td>\n",
       "      <td>80.868</td>\n",
       "      <td>142.001</td>\n",
       "      <td>18.290</td>\n",
       "    </tr>\n",
       "    <tr>\n",
       "      <th>min</th>\n",
       "      <td>1678.000</td>\n",
       "      <td>0.000</td>\n",
       "      <td>1.000</td>\n",
       "      <td>0.000</td>\n",
       "      <td>0.000</td>\n",
       "      <td>1.000</td>\n",
       "      <td>0.000</td>\n",
       "      <td>0.000</td>\n",
       "    </tr>\n",
       "    <tr>\n",
       "      <th>25%</th>\n",
       "      <td>16085328.000</td>\n",
       "      <td>75.000</td>\n",
       "      <td>2.000</td>\n",
       "      <td>1.000</td>\n",
       "      <td>0.010</td>\n",
       "      <td>1.000</td>\n",
       "      <td>0.000</td>\n",
       "      <td>0.000</td>\n",
       "    </tr>\n",
       "    <tr>\n",
       "      <th>50%</th>\n",
       "      <td>74338125.000</td>\n",
       "      <td>125.000</td>\n",
       "      <td>7.000</td>\n",
       "      <td>5.000</td>\n",
       "      <td>0.240</td>\n",
       "      <td>1.000</td>\n",
       "      <td>89.000</td>\n",
       "      <td>0.000</td>\n",
       "    </tr>\n",
       "    <tr>\n",
       "      <th>75%</th>\n",
       "      <td>268069240.500</td>\n",
       "      <td>200.000</td>\n",
       "      <td>30.000</td>\n",
       "      <td>24.000</td>\n",
       "      <td>1.170</td>\n",
       "      <td>4.000</td>\n",
       "      <td>289.000</td>\n",
       "      <td>7.000</td>\n",
       "    </tr>\n",
       "    <tr>\n",
       "      <th>max</th>\n",
       "      <td>503872891.000</td>\n",
       "      <td>99000.000</td>\n",
       "      <td>1250.000</td>\n",
       "      <td>1842.000</td>\n",
       "      <td>86.610</td>\n",
       "      <td>526.000</td>\n",
       "      <td>365.000</td>\n",
       "      <td>1093.000</td>\n",
       "    </tr>\n",
       "  </tbody>\n",
       "</table>\n",
       "</div>"
      ],
      "text/plain": [
       "            host_id     price  minimum_nights  number_of_reviews  \\\n",
       "count     42931.000 42931.000       42931.000          42931.000   \n",
       "mean  151601209.022   200.307          18.111             25.856   \n",
       "std   162130107.568   895.083          27.463             56.616   \n",
       "min        1678.000     0.000           1.000              0.000   \n",
       "25%    16085328.000    75.000           2.000              1.000   \n",
       "50%    74338125.000   125.000           7.000              5.000   \n",
       "75%   268069240.500   200.000          30.000             24.000   \n",
       "max   503872891.000 99000.000        1250.000           1842.000   \n",
       "\n",
       "       reviews_per_month  calculated_host_listings_count  availability_365  \\\n",
       "count          42931.000                       42931.000         42931.000   \n",
       "mean               0.888                          24.055           140.262   \n",
       "std                1.638                          80.868           142.001   \n",
       "min                0.000                           1.000             0.000   \n",
       "25%                0.010                           1.000             0.000   \n",
       "50%                0.240                           1.000            89.000   \n",
       "75%                1.170                           4.000           289.000   \n",
       "max               86.610                         526.000           365.000   \n",
       "\n",
       "       number_of_reviews_ltm  \n",
       "count              42931.000  \n",
       "mean                   7.737  \n",
       "std                   18.290  \n",
       "min                    0.000  \n",
       "25%                    0.000  \n",
       "50%                    0.000  \n",
       "75%                    7.000  \n",
       "max                 1093.000  "
      ]
     },
     "execution_count": 20,
     "metadata": {},
     "output_type": "execute_result"
    }
   ],
   "source": [
    "airbnb.describe()"
   ]
  },
  {
   "cell_type": "markdown",
   "id": "2441d2f1-a85d-4991-8073-9489f83d0c8c",
   "metadata": {},
   "source": [
    "### 숙소 가격"
   ]
  },
  {
   "cell_type": "markdown",
   "id": "3cb5a151-87c3-4114-8c0d-b53a3c68dd4f",
   "metadata": {},
   "source": [
    "#### 숙소 가격이 0인 데이터 삭제\n",
    "숙소 가격이  0달러 인 것은 가격 정보에 맞지않는 이상치이다."
   ]
  },
  {
   "cell_type": "code",
   "execution_count": 21,
   "id": "ec594cf9-ee0f-4414-a491-c0d9501c1cc1",
   "metadata": {},
   "outputs": [
    {
     "data": {
      "text/plain": [
       "27"
      ]
     },
     "execution_count": 21,
     "metadata": {},
     "output_type": "execute_result"
    }
   ],
   "source": [
    "(airbnb['price'] == 0).sum() # 가격이 0인 데이터 개수"
   ]
  },
  {
   "cell_type": "code",
   "execution_count": 22,
   "id": "51777987-2074-40cc-818e-cf2290a75dfa",
   "metadata": {},
   "outputs": [
    {
     "data": {
      "text/html": [
       "<div>\n",
       "<style scoped>\n",
       "    .dataframe tbody tr th:only-of-type {\n",
       "        vertical-align: middle;\n",
       "    }\n",
       "\n",
       "    .dataframe tbody tr th {\n",
       "        vertical-align: top;\n",
       "    }\n",
       "\n",
       "    .dataframe thead th {\n",
       "        text-align: right;\n",
       "    }\n",
       "</style>\n",
       "<table border=\"1\" class=\"dataframe\">\n",
       "  <thead>\n",
       "    <tr style=\"text-align: right;\">\n",
       "      <th></th>\n",
       "      <th>host_id</th>\n",
       "      <th>price</th>\n",
       "      <th>minimum_nights</th>\n",
       "      <th>number_of_reviews</th>\n",
       "      <th>reviews_per_month</th>\n",
       "      <th>calculated_host_listings_count</th>\n",
       "      <th>availability_365</th>\n",
       "      <th>number_of_reviews_ltm</th>\n",
       "    </tr>\n",
       "  </thead>\n",
       "  <tbody>\n",
       "    <tr>\n",
       "      <th>count</th>\n",
       "      <td>42904.000</td>\n",
       "      <td>42904.000</td>\n",
       "      <td>42904.000</td>\n",
       "      <td>42904.000</td>\n",
       "      <td>42904.000</td>\n",
       "      <td>42904.000</td>\n",
       "      <td>42904.000</td>\n",
       "      <td>42904.000</td>\n",
       "    </tr>\n",
       "    <tr>\n",
       "      <th>mean</th>\n",
       "      <td>151494340.899</td>\n",
       "      <td>200.433</td>\n",
       "      <td>18.117</td>\n",
       "      <td>25.829</td>\n",
       "      <td>0.888</td>\n",
       "      <td>24.069</td>\n",
       "      <td>140.350</td>\n",
       "      <td>7.732</td>\n",
       "    </tr>\n",
       "    <tr>\n",
       "      <th>std</th>\n",
       "      <td>162120782.644</td>\n",
       "      <td>895.350</td>\n",
       "      <td>27.468</td>\n",
       "      <td>56.527</td>\n",
       "      <td>1.637</td>\n",
       "      <td>80.891</td>\n",
       "      <td>142.003</td>\n",
       "      <td>18.286</td>\n",
       "    </tr>\n",
       "    <tr>\n",
       "      <th>min</th>\n",
       "      <td>1678.000</td>\n",
       "      <td>10.000</td>\n",
       "      <td>1.000</td>\n",
       "      <td>0.000</td>\n",
       "      <td>0.000</td>\n",
       "      <td>1.000</td>\n",
       "      <td>0.000</td>\n",
       "      <td>0.000</td>\n",
       "    </tr>\n",
       "    <tr>\n",
       "      <th>25%</th>\n",
       "      <td>16062665.500</td>\n",
       "      <td>75.000</td>\n",
       "      <td>2.000</td>\n",
       "      <td>1.000</td>\n",
       "      <td>0.010</td>\n",
       "      <td>1.000</td>\n",
       "      <td>0.000</td>\n",
       "      <td>0.000</td>\n",
       "    </tr>\n",
       "    <tr>\n",
       "      <th>50%</th>\n",
       "      <td>74321721.500</td>\n",
       "      <td>125.000</td>\n",
       "      <td>7.000</td>\n",
       "      <td>5.000</td>\n",
       "      <td>0.240</td>\n",
       "      <td>1.000</td>\n",
       "      <td>89.000</td>\n",
       "      <td>0.000</td>\n",
       "    </tr>\n",
       "    <tr>\n",
       "      <th>75%</th>\n",
       "      <td>267685057.000</td>\n",
       "      <td>200.000</td>\n",
       "      <td>30.000</td>\n",
       "      <td>24.000</td>\n",
       "      <td>1.170</td>\n",
       "      <td>4.000</td>\n",
       "      <td>289.000</td>\n",
       "      <td>7.000</td>\n",
       "    </tr>\n",
       "    <tr>\n",
       "      <th>max</th>\n",
       "      <td>503872891.000</td>\n",
       "      <td>99000.000</td>\n",
       "      <td>1250.000</td>\n",
       "      <td>1842.000</td>\n",
       "      <td>86.610</td>\n",
       "      <td>526.000</td>\n",
       "      <td>365.000</td>\n",
       "      <td>1093.000</td>\n",
       "    </tr>\n",
       "  </tbody>\n",
       "</table>\n",
       "</div>"
      ],
      "text/plain": [
       "            host_id     price  minimum_nights  number_of_reviews  \\\n",
       "count     42904.000 42904.000       42904.000          42904.000   \n",
       "mean  151494340.899   200.433          18.117             25.829   \n",
       "std   162120782.644   895.350          27.468             56.527   \n",
       "min        1678.000    10.000           1.000              0.000   \n",
       "25%    16062665.500    75.000           2.000              1.000   \n",
       "50%    74321721.500   125.000           7.000              5.000   \n",
       "75%   267685057.000   200.000          30.000             24.000   \n",
       "max   503872891.000 99000.000        1250.000           1842.000   \n",
       "\n",
       "       reviews_per_month  calculated_host_listings_count  availability_365  \\\n",
       "count          42904.000                       42904.000         42904.000   \n",
       "mean               0.888                          24.069           140.350   \n",
       "std                1.637                          80.891           142.003   \n",
       "min                0.000                           1.000             0.000   \n",
       "25%                0.010                           1.000             0.000   \n",
       "50%                0.240                           1.000            89.000   \n",
       "75%                1.170                           4.000           289.000   \n",
       "max               86.610                         526.000           365.000   \n",
       "\n",
       "       number_of_reviews_ltm  \n",
       "count              42904.000  \n",
       "mean                   7.732  \n",
       "std                   18.286  \n",
       "min                    0.000  \n",
       "25%                    0.000  \n",
       "50%                    0.000  \n",
       "75%                    7.000  \n",
       "max                 1093.000  "
      ]
     },
     "execution_count": 22,
     "metadata": {},
     "output_type": "execute_result"
    }
   ],
   "source": [
    "airbnb = airbnb[airbnb['price'] != 0]\n",
    "airbnb.describe()"
   ]
  },
  {
   "cell_type": "markdown",
   "id": "91a5d8f8-28ad-458a-9588-3fe888480898",
   "metadata": {},
   "source": [
    "#### 상자그림"
   ]
  },
  {
   "cell_type": "code",
   "execution_count": 23,
   "id": "25fba657-60e4-4d2f-9150-1a0561b81314",
   "metadata": {},
   "outputs": [
    {
     "data": {
      "text/plain": [
       "<Axes: title={'center': 'price'}, xlabel='room_type'>"
      ]
     },
     "execution_count": 23,
     "metadata": {},
     "output_type": "execute_result"
    },
    {
     "data": {
      "image/png": "[encoded data removed]",
      "text/plain": [
       "<Figure size 640x480 with 1 Axes>"
      ]
     },
     "metadata": {},
     "output_type": "display_data"
    }
   ],
   "source": [
    "airbnb.boxplot(column='price', by='room_type')"
   ]
  },
  {
   "cell_type": "code",
   "execution_count": 24,
   "id": "1b97e8ac-b772-4dee-81e6-6d571e380b71",
   "metadata": {},
   "outputs": [
    {
     "data": {
      "text/html": [
       "<div>\n",
       "<style scoped>\n",
       "    .dataframe tbody tr th:only-of-type {\n",
       "        vertical-align: middle;\n",
       "    }\n",
       "\n",
       "    .dataframe tbody tr th {\n",
       "        vertical-align: top;\n",
       "    }\n",
       "\n",
       "    .dataframe thead th {\n",
       "        text-align: right;\n",
       "    }\n",
       "</style>\n",
       "<table border=\"1\" class=\"dataframe\">\n",
       "  <thead>\n",
       "    <tr style=\"text-align: right;\">\n",
       "      <th></th>\n",
       "      <th>count</th>\n",
       "      <th>mean</th>\n",
       "      <th>std</th>\n",
       "      <th>min</th>\n",
       "      <th>25%</th>\n",
       "      <th>50%</th>\n",
       "      <th>75%</th>\n",
       "      <th>max</th>\n",
       "    </tr>\n",
       "    <tr>\n",
       "      <th>room_type</th>\n",
       "      <th></th>\n",
       "      <th></th>\n",
       "      <th></th>\n",
       "      <th></th>\n",
       "      <th></th>\n",
       "      <th></th>\n",
       "      <th></th>\n",
       "      <th></th>\n",
       "    </tr>\n",
       "  </thead>\n",
       "  <tbody>\n",
       "    <tr>\n",
       "      <th>Entire home/apt</th>\n",
       "      <td>24279.000</td>\n",
       "      <td>249.255</td>\n",
       "      <td>737.615</td>\n",
       "      <td>10.000</td>\n",
       "      <td>123.000</td>\n",
       "      <td>174.000</td>\n",
       "      <td>252.500</td>\n",
       "      <td>99000.000</td>\n",
       "    </tr>\n",
       "    <tr>\n",
       "      <th>Hotel room</th>\n",
       "      <td>170.000</td>\n",
       "      <td>359.188</td>\n",
       "      <td>275.585</td>\n",
       "      <td>99.000</td>\n",
       "      <td>204.750</td>\n",
       "      <td>254.500</td>\n",
       "      <td>372.250</td>\n",
       "      <td>1592.000</td>\n",
       "    </tr>\n",
       "    <tr>\n",
       "      <th>Private room</th>\n",
       "      <td>17879.000</td>\n",
       "      <td>135.015</td>\n",
       "      <td>1080.895</td>\n",
       "      <td>10.000</td>\n",
       "      <td>51.000</td>\n",
       "      <td>73.000</td>\n",
       "      <td>105.000</td>\n",
       "      <td>85170.000</td>\n",
       "    </tr>\n",
       "    <tr>\n",
       "      <th>Shared room</th>\n",
       "      <td>576.000</td>\n",
       "      <td>126.250</td>\n",
       "      <td>497.086</td>\n",
       "      <td>15.000</td>\n",
       "      <td>40.000</td>\n",
       "      <td>56.500</td>\n",
       "      <td>90.000</td>\n",
       "      <td>10000.000</td>\n",
       "    </tr>\n",
       "  </tbody>\n",
       "</table>\n",
       "</div>"
      ],
      "text/plain": [
       "                    count    mean      std    min     25%     50%     75%  \\\n",
       "room_type                                                                   \n",
       "Entire home/apt 24279.000 249.255  737.615 10.000 123.000 174.000 252.500   \n",
       "Hotel room        170.000 359.188  275.585 99.000 204.750 254.500 372.250   \n",
       "Private room    17879.000 135.015 1080.895 10.000  51.000  73.000 105.000   \n",
       "Shared room       576.000 126.250  497.086 15.000  40.000  56.500  90.000   \n",
       "\n",
       "                      max  \n",
       "room_type                  \n",
       "Entire home/apt 99000.000  \n",
       "Hotel room       1592.000  \n",
       "Private room    85170.000  \n",
       "Shared room     10000.000  "
      ]
     },
     "execution_count": 24,
     "metadata": {},
     "output_type": "execute_result"
    }
   ],
   "source": [
    "room_price = airbnb.groupby('room_type')['price']\n",
    "room_price.describe()"
   ]
  },
  {
   "cell_type": "markdown",
   "id": "bb1c2cf5-7999-4876-b6a0-991d46c188d5",
   "metadata": {
    "jp-MarkdownHeadingCollapsed": true
   },
   "source": [
    "#### 룸타입별 IQR, ufence, lfence 기준으로 가격 이상치 제한"
   ]
  },
  {
   "cell_type": "code",
   "execution_count": 25,
   "id": "33611433-f813-4565-8ad9-8286265957cc",
   "metadata": {},
   "outputs": [
    {
     "name": "stdout",
     "output_type": "stream",
     "text": [
      "Room Type: Entire home/apt Q1: 123.0 Q3: 252.5 IQR: 129.5 ufence: 446.75 lfence: -71.25\n",
      "\n",
      "Room Type: Hotel room Q1: 204.75 Q3: 372.25 IQR: 167.5 ufence: 623.5 lfence: -46.5\n",
      "\n",
      "Room Type: Private room Q1: 51.0 Q3: 105.0 IQR: 54.0 ufence: 186.0 lfence: -30.0\n",
      "\n",
      "Room Type: Shared room Q1: 40.0 Q3: 90.0 IQR: 50.0 ufence: 165.0 lfence: -35.0\n",
      "\n"
     ]
    }
   ],
   "source": [
    "for room_type, prices in room_price:\n",
    "    Q1 = prices.quantile(0.25)\n",
    "    Q3 = prices.quantile(0.75)\n",
    "    IQR = Q3 - Q1\n",
    "    ufence = Q3 + 1.5 * IQR\n",
    "    lfence = Q1 - 1.5 * IQR\n",
    "\n",
    "    print(f\"Room Type: {room_type}\",\n",
    "    f\"Q1: {Q1}\",\n",
    "    f\"Q3: {Q3}\",\n",
    "    f\"IQR: {IQR}\",\n",
    "    f\"ufence: {ufence}\",\n",
    "    f\"lfence: {lfence}\\n\")"
   ]
  },
  {
   "cell_type": "markdown",
   "id": "b3a5a095-4802-4377-b65a-9431d5414c36",
   "metadata": {
    "jp-MarkdownHeadingCollapsed": true
   },
   "source": [
    "##### room_type별 이상치 제한 : Entire home/apt"
   ]
  },
  {
   "cell_type": "code",
   "execution_count": 26,
   "id": "c5b5ce48-8afe-46c0-8716-240c79cbb134",
   "metadata": {},
   "outputs": [
    {
     "name": "stdout",
     "output_type": "stream",
     "text": [
      "ufence : 446.75, lfence : -71.25\n"
     ]
    },
    {
     "data": {
      "text/plain": [
       "23        596\n",
       "35        900\n",
       "54        750\n",
       "117       650\n",
       "164       500\n",
       "         ... \n",
       "42873     800\n",
       "42891     586\n",
       "42892     650\n",
       "42895     960\n",
       "42901    1865\n",
       "Name: price, Length: 1998, dtype: int64"
      ]
     },
     "execution_count": 26,
     "metadata": {},
     "output_type": "execute_result"
    }
   ],
   "source": [
    "room_class_ent = 'Entire home/apt'\n",
    "\n",
    "room_prices_ent = airbnb.loc[airbnb['room_type'] == room_class_ent, 'price']\n",
    "Q1 = np.percentile(room_prices_ent, 25)\n",
    "Q3 = np.percentile(room_prices_ent, 75)\n",
    "IQR = Q3 - Q1\n",
    "ufence1 = Q3 + 1.5 * IQR\n",
    "lfence1 = Q1 - 1.5 * IQR\n",
    "\n",
    "outliers_ent = room_prices_ent[(room_prices_ent < lfence1) | (room_prices_ent > ufence1)]\n",
    "\n",
    "\n",
    "print(f\"ufence : {ufence1}, lfence : {lfence1}\")\n",
    "outliers_ent"
   ]
  },
  {
   "cell_type": "code",
   "execution_count": 27,
   "id": "8387a97c-5cf3-44cb-9205-9cbd32c6439e",
   "metadata": {},
   "outputs": [],
   "source": [
    "#lfence 기준 이상치 제한\n",
    "room_prices_ent_clipped = room_prices_ent.clip(upper=ufence1).astype('int64')\n",
    "airbnb.loc[airbnb['room_type'] == room_class_ent, 'price'] = room_prices_ent_clipped"
   ]
  },
  {
   "cell_type": "markdown",
   "id": "ea376ce6-60fd-46c1-865b-3f08e53d94d1",
   "metadata": {
    "jp-MarkdownHeadingCollapsed": true
   },
   "source": [
    "##### room_type별 이상치 제한 : Hotel room"
   ]
  },
  {
   "cell_type": "code",
   "execution_count": 28,
   "id": "6c39accc-6c34-4e03-ac73-f5d71993ccb4",
   "metadata": {},
   "outputs": [
    {
     "name": "stdout",
     "output_type": "stream",
     "text": [
      "ufence : 623.5, lfence : -46.5\n"
     ]
    },
    {
     "data": {
      "text/plain": [
       "5146     1245\n",
       "15124    1000\n",
       "15241    1000\n",
       "15242    1000\n",
       "15243    1000\n",
       "15249    1000\n",
       "15250    1000\n",
       "15251    1000\n",
       "15252    1000\n",
       "15253    1000\n",
       "15255    1000\n",
       "17097    1164\n",
       "17104     921\n",
       "17167     692\n",
       "17168    1092\n",
       "17175    1592\n",
       "17176    1492\n",
       "17786     651\n",
       "18996     625\n",
       "18997     879\n",
       "18998     938\n",
       "Name: price, dtype: int64"
      ]
     },
     "execution_count": 28,
     "metadata": {},
     "output_type": "execute_result"
    }
   ],
   "source": [
    "room_class_hotel = 'Hotel room'\n",
    "\n",
    "room_prices_hotel = airbnb.loc[airbnb['room_type'] == room_class_hotel, 'price']\n",
    "Q12 = np.percentile(room_prices_hotel, 25)\n",
    "Q32 = np.percentile(room_prices_hotel, 75)\n",
    "IQR2 = Q32 - Q12\n",
    "ufence2 = Q32 + 1.5 * IQR2\n",
    "lfence2 = Q12 - 1.5 * IQR2\n",
    "\n",
    "outliers_hotel = room_prices_hotel[(room_prices_hotel < lfence2) | (room_prices_hotel > ufence2)]\n",
    "\n",
    "\n",
    "print(f\"ufence : {ufence2}, lfence : {lfence2}\")\n",
    "outliers_hotel"
   ]
  },
  {
   "cell_type": "code",
   "execution_count": 29,
   "id": "815f1271-f605-46e6-b759-673f71c6bf2e",
   "metadata": {},
   "outputs": [],
   "source": [
    "#lfence 기준 이상치 제한\n",
    "room_prices_hotel_clipped = room_prices_hotel.clip(upper=ufence2).astype('int64')\n",
    "airbnb.loc[airbnb['room_type'] == room_class_hotel, 'price'] = room_prices_hotel_clipped"
   ]
  },
  {
   "cell_type": "markdown",
   "id": "a0f4d1b1-c542-42a6-902e-2ef4ea6dbf99",
   "metadata": {
    "jp-MarkdownHeadingCollapsed": true
   },
   "source": [
    "##### room_type별 이상치 제한 : Private room"
   ]
  },
  {
   "cell_type": "code",
   "execution_count": 30,
   "id": "96cdd6f1-252f-4d85-a492-996ddc78fd9e",
   "metadata": {},
   "outputs": [
    {
     "name": "stdout",
     "output_type": "stream",
     "text": [
      "ufence : 186.0, lfence : -30.0\n"
     ]
    },
    {
     "data": {
      "text/plain": [
       "8        200\n",
       "24       205\n",
       "78       349\n",
       "83       349\n",
       "97       200\n",
       "        ... \n",
       "42820    291\n",
       "42822    315\n",
       "42823    329\n",
       "42824    315\n",
       "42911    200\n",
       "Name: price, Length: 1811, dtype: int64"
      ]
     },
     "execution_count": 30,
     "metadata": {},
     "output_type": "execute_result"
    }
   ],
   "source": [
    "room_class_priv = 'Private room'\n",
    "\n",
    "room_prices_priv = airbnb.loc[airbnb['room_type'] == room_class_priv, 'price']\n",
    "Q13 = np.percentile(room_prices_priv, 25)\n",
    "Q33 = np.percentile(room_prices_priv, 75)\n",
    "IQR3 = Q33 - Q13\n",
    "ufence3 = Q33 + 1.5 * IQR3\n",
    "lfence3 = Q13 - 1.5 * IQR3\n",
    "\n",
    "outliers_priv = room_prices_priv[(room_prices_priv < lfence3) | (room_prices_priv > ufence3)]\n",
    "\n",
    "\n",
    "print(f\"ufence : {ufence3}, lfence : {lfence3}\")\n",
    "outliers_priv"
   ]
  },
  {
   "cell_type": "code",
   "execution_count": 31,
   "id": "6bf2cc3f-e967-40db-82a1-d1c8478c682b",
   "metadata": {},
   "outputs": [],
   "source": [
    "#lfence 기준 이상치 제한\n",
    "room_prices_priv_clipped = room_prices_priv.clip(upper=ufence3).astype('int64')\n",
    "airbnb.loc[airbnb['room_type'] == room_class_priv, 'price'] = room_prices_priv_clipped"
   ]
  },
  {
   "cell_type": "markdown",
   "id": "37b7bb75-ec86-4efc-bf73-b2a05c77bacf",
   "metadata": {
    "jp-MarkdownHeadingCollapsed": true
   },
   "source": [
    "##### room_type별 이상치 제한 : Shared room"
   ]
  },
  {
   "cell_type": "code",
   "execution_count": 32,
   "id": "5e9f29ec-c0bb-4220-b52c-774dded97dc9",
   "metadata": {},
   "outputs": [
    {
     "name": "stdout",
     "output_type": "stream",
     "text": [
      "ufence : 165.0, lfence : -35.0\n"
     ]
    },
    {
     "data": {
      "text/plain": [
       "744       2000\n",
       "868        350\n",
       "1209       168\n",
       "2129       207\n",
       "2920       172\n",
       "3155       199\n",
       "3414       200\n",
       "4445       800\n",
       "4685      1350\n",
       "5143       251\n",
       "6758       200\n",
       "6778       199\n",
       "7104       360\n",
       "8111       179\n",
       "9851       175\n",
       "9934       249\n",
       "9971       320\n",
       "11102      225\n",
       "12801     1250\n",
       "13611     2250\n",
       "15756      299\n",
       "16012      998\n",
       "16104    10000\n",
       "16306      500\n",
       "16369      449\n",
       "16723      429\n",
       "17560      300\n",
       "18284      208\n",
       "18574     1000\n",
       "18675     1560\n",
       "19291      301\n",
       "19724      200\n",
       "21127      200\n",
       "21534      250\n",
       "22244      200\n",
       "22835      180\n",
       "22836      170\n",
       "22837      170\n",
       "23706      250\n",
       "24684      200\n",
       "24699      184\n",
       "27208      650\n",
       "27956      300\n",
       "29246      175\n",
       "31235      235\n",
       "32014     1111\n",
       "32571      225\n",
       "32579      220\n",
       "34041      975\n",
       "36438      370\n",
       "36634      247\n",
       "36635      560\n",
       "36638      480\n",
       "38453      419\n",
       "39037      399\n",
       "39984     5000\n",
       "40065      178\n",
       "41242      175\n",
       "Name: price, dtype: int64"
      ]
     },
     "execution_count": 32,
     "metadata": {},
     "output_type": "execute_result"
    }
   ],
   "source": [
    "room_class_share = 'Shared room'\n",
    "\n",
    "room_prices_share = airbnb.loc[airbnb['room_type'] == room_class_share, 'price']\n",
    "Q14 = np.percentile(room_prices_share, 25)\n",
    "Q34 = np.percentile(room_prices_share, 75)\n",
    "IQR4 = Q34 - Q14\n",
    "ufence4 = Q34 + 1.5 * IQR4\n",
    "lfence4 = Q14 - 1.5 * IQR4\n",
    "\n",
    "outliers_share = room_prices_share[(room_prices_share < lfence4) | (room_prices_share > ufence4)]\n",
    "\n",
    "\n",
    "print(f\"ufence : {ufence4}, lfence : {lfence4}\")\n",
    "outliers_share"
   ]
  },
  {
   "cell_type": "code",
   "execution_count": 33,
   "id": "560d898e-5f67-47f5-afc9-c418cce19dd6",
   "metadata": {},
   "outputs": [],
   "source": [
    "#lfence 기준 이상치 제한\n",
    "room_prices_share_clipped = room_prices_share.clip(upper=ufence4).astype('int64')\n",
    "airbnb.loc[airbnb['room_type'] == room_class_share, 'price'] = room_prices_share_clipped"
   ]
  },
  {
   "cell_type": "code",
   "execution_count": 34,
   "id": "5dffd0c0-40d0-4248-89fb-fca31ab7b4e2",
   "metadata": {},
   "outputs": [
    {
     "data": {
      "text/html": [
       "<div>\n",
       "<style scoped>\n",
       "    .dataframe tbody tr th:only-of-type {\n",
       "        vertical-align: middle;\n",
       "    }\n",
       "\n",
       "    .dataframe tbody tr th {\n",
       "        vertical-align: top;\n",
       "    }\n",
       "\n",
       "    .dataframe thead th {\n",
       "        text-align: right;\n",
       "    }\n",
       "</style>\n",
       "<table border=\"1\" class=\"dataframe\">\n",
       "  <thead>\n",
       "    <tr style=\"text-align: right;\">\n",
       "      <th></th>\n",
       "      <th>count</th>\n",
       "      <th>mean</th>\n",
       "      <th>std</th>\n",
       "      <th>min</th>\n",
       "      <th>25%</th>\n",
       "      <th>50%</th>\n",
       "      <th>75%</th>\n",
       "      <th>max</th>\n",
       "    </tr>\n",
       "    <tr>\n",
       "      <th>room_type</th>\n",
       "      <th></th>\n",
       "      <th></th>\n",
       "      <th></th>\n",
       "      <th></th>\n",
       "      <th></th>\n",
       "      <th></th>\n",
       "      <th></th>\n",
       "      <th></th>\n",
       "    </tr>\n",
       "  </thead>\n",
       "  <tbody>\n",
       "    <tr>\n",
       "      <th>Entire home/apt</th>\n",
       "      <td>24279.000</td>\n",
       "      <td>203.936</td>\n",
       "      <td>107.983</td>\n",
       "      <td>10.000</td>\n",
       "      <td>123.000</td>\n",
       "      <td>174.000</td>\n",
       "      <td>252.500</td>\n",
       "      <td>446.000</td>\n",
       "    </tr>\n",
       "    <tr>\n",
       "      <th>Hotel room</th>\n",
       "      <td>170.000</td>\n",
       "      <td>310.906</td>\n",
       "      <td>150.619</td>\n",
       "      <td>99.000</td>\n",
       "      <td>204.750</td>\n",
       "      <td>254.500</td>\n",
       "      <td>372.250</td>\n",
       "      <td>623.000</td>\n",
       "    </tr>\n",
       "    <tr>\n",
       "      <th>Private room</th>\n",
       "      <td>17879.000</td>\n",
       "      <td>86.367</td>\n",
       "      <td>45.925</td>\n",
       "      <td>10.000</td>\n",
       "      <td>51.000</td>\n",
       "      <td>73.000</td>\n",
       "      <td>105.000</td>\n",
       "      <td>186.000</td>\n",
       "    </tr>\n",
       "    <tr>\n",
       "      <th>Shared room</th>\n",
       "      <td>576.000</td>\n",
       "      <td>71.908</td>\n",
       "      <td>43.980</td>\n",
       "      <td>15.000</td>\n",
       "      <td>40.000</td>\n",
       "      <td>56.500</td>\n",
       "      <td>90.000</td>\n",
       "      <td>165.000</td>\n",
       "    </tr>\n",
       "  </tbody>\n",
       "</table>\n",
       "</div>"
      ],
      "text/plain": [
       "                    count    mean     std    min     25%     50%     75%  \\\n",
       "room_type                                                                  \n",
       "Entire home/apt 24279.000 203.936 107.983 10.000 123.000 174.000 252.500   \n",
       "Hotel room        170.000 310.906 150.619 99.000 204.750 254.500 372.250   \n",
       "Private room    17879.000  86.367  45.925 10.000  51.000  73.000 105.000   \n",
       "Shared room       576.000  71.908  43.980 15.000  40.000  56.500  90.000   \n",
       "\n",
       "                    max  \n",
       "room_type                \n",
       "Entire home/apt 446.000  \n",
       "Hotel room      623.000  \n",
       "Private room    186.000  \n",
       "Shared room     165.000  "
      ]
     },
     "execution_count": 34,
     "metadata": {},
     "output_type": "execute_result"
    }
   ],
   "source": [
    "room_price = airbnb.groupby('room_type')['price']\n",
    "room_price.describe()"
   ]
  },
  {
   "cell_type": "markdown",
   "id": "48518375-c67f-4c36-ab94-06278dcc9223",
   "metadata": {},
   "source": [
    "#### 제한 후 상자그림"
   ]
  },
  {
   "cell_type": "code",
   "execution_count": 35,
   "id": "4af35232-6803-4599-a959-af0e13fbff2b",
   "metadata": {},
   "outputs": [
    {
     "data": {
      "text/plain": [
       "<Axes: title={'center': 'price'}, xlabel='room_type'>"
      ]
     },
     "execution_count": 35,
     "metadata": {},
     "output_type": "execute_result"
    },
    {
     "data": {
      "image/png": "[encoded data removed]",
      "text/plain": [
       "<Figure size 640x480 with 1 Axes>"
      ]
     },
     "metadata": {},
     "output_type": "display_data"
    }
   ],
   "source": [
    "airbnb.boxplot(column='price', by='room_type')"
   ]
  },
  {
   "cell_type": "markdown",
   "id": "46bc4a89-a844-4043-a2db-abaa1c3783d5",
   "metadata": {},
   "source": [
    "private room(개인실, 공유공간)과 shared room(다른 게스트와 공유하는 방)의 가격이 상대적으로 저렴한 분포를 가지고 있으며,\n",
    "Entire home/apt(독채),Hotel room(호텔)의 가격이 상대적으로 더 높은 가을 가지고 있고, 특히 Hotel room의 분포가 넓고 가장 가격이 높은 방의 유형이라고 볼 수 있습니다."
   ]
  },
  {
   "cell_type": "markdown",
   "id": "64750aec-3dcb-401a-b902-e10f36dfdf15",
   "metadata": {},
   "source": [
    "# EDA"
   ]
  },
  {
   "cell_type": "markdown",
   "id": "dd5070b0-ba4d-4ce4-92ee-9645b5b23418",
   "metadata": {},
   "source": [
    "## Q1. 하나의 호스트가 숙소 여러개를 상품으로 냈을 때 같은 유형의 숙소를 제공할까?"
   ]
  },
  {
   "cell_type": "code",
   "execution_count": 38,
   "id": "f7e43eeb-b18a-4772-a600-f88a7e633284",
   "metadata": {},
   "outputs": [
    {
     "data": {
      "text/plain": [
       "host_id    host_name\n",
       "1678       Adam         1\n",
       "2234       Mary         1\n",
       "2438       Tasos        1\n",
       "2571       Teedo        1\n",
       "2782       Matthew      1\n",
       "                       ..\n",
       "503593397  Brandon      1\n",
       "503718879  Mehdi        1\n",
       "503726515  Lashawn      1\n",
       "503757175  Jazmin       1\n",
       "503872891  Catherine    1\n",
       "Name: count, Length: 27430, dtype: int64"
      ]
     },
     "execution_count": 38,
     "metadata": {},
     "output_type": "execute_result"
    }
   ],
   "source": [
    "airbnb[[\"host_name\", \"host_id\"]].groupby(\"host_id\").value_counts()"
   ]
  }
 ],
 "metadata": {
  "kernelspec": {
   "display_name": "Python 3 (ipykernel)",
   "language": "python",
   "name": "python3"
  },
  "language_info": {
   "codemirror_mode": {
    "name": "ipython",
    "version": 3
   },
   "file_extension": ".py",
   "mimetype": "text/x-python",
   "name": "python",
   "nbconvert_exporter": "python",
   "pygments_lexer": "ipython3",
   "version": "3.10.13"
  }
 },
 "nbformat": 4,
 "nbformat_minor": 5
}
